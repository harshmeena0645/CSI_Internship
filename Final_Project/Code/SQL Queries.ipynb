{
 "cells": [
  {
   "cell_type": "markdown",
   "id": "36a16e37",
   "metadata": {},
   "source": [
    "# 🔹 5. SQL Queries (Assuming Table Name = products)\n",
    "##  A. Top 5 Most Expensive Products"
   ]
  },
  {
   "cell_type": "code",
   "execution_count": null,
   "id": "e196b673",
   "metadata": {},
   "outputs": [],
   "source": [
    "SELECT product_title, product_price\n",
    "FROM products\n",
    "ORDER BY product_price DESC\n",
    "LIMIT 5;"
   ]
  },
  {
   "cell_type": "markdown",
   "id": "98ed614e",
   "metadata": {},
   "source": [
    "## B. Average Rating by Country"
   ]
  },
  {
   "cell_type": "code",
   "execution_count": null,
   "id": "9dc3f3ca",
   "metadata": {},
   "outputs": [],
   "source": [
    "SELECT country, AVG(product_star_rating) AS avg_rating\n",
    "FROM products\n",
    "GROUP BY country\n",
    "ORDER BY avg_rating DESC;"
   ]
  },
  {
   "cell_type": "markdown",
   "id": "059f7c09",
   "metadata": {},
   "source": [
    "## C. Count of Products per Country"
   ]
  },
  {
   "cell_type": "code",
   "execution_count": null,
   "id": "7a8597fc",
   "metadata": {},
   "outputs": [],
   "source": [
    "SELECT country, COUNT(*) AS product_count\n",
    "FROM products\n",
    "GROUP BY country;"
   ]
  }
 ],
 "metadata": {
  "kernelspec": {
   "display_name": "Python 3 (ipykernel)",
   "language": "python",
   "name": "python3"
  },
  "language_info": {
   "codemirror_mode": {
    "name": "ipython",
    "version": 3
   },
   "file_extension": ".py",
   "mimetype": "text/x-python",
   "name": "python",
   "nbconvert_exporter": "python",
   "pygments_lexer": "ipython3",
   "version": "3.11.3"
  }
 },
 "nbformat": 4,
 "nbformat_minor": 5
}
