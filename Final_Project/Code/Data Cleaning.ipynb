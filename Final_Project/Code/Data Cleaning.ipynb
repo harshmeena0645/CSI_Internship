{
 "cells": [
  {
   "cell_type": "markdown",
   "id": "d58d42d2",
   "metadata": {},
   "source": [
    "# ✅ Step-by-Step Plan for Product Analytics (Using Your Dataset)\n",
    "\n",
    "## 🔹 1. Python Setup: Data Cleaning and Exploration\n"
   ]
  },
  {
   "cell_type": "code",
   "execution_count": null,
   "id": "4d993d1e",
   "metadata": {},
   "outputs": [],
   "source": [
    "import pandas as pd\n",
    "import matplotlib.pyplot as plt\n",
    "import seaborn as sns\n",
    "\n",
    "df = pd.read_csv(\"data.csv\")\n",
    "\n",
    "\n",
    "df[\"product_price\"] = df[\"product_price\"].replace('[\\$,]', '', regex=True).astype(float)\n",
    "\n",
    "\n",
    "df[\"product_num_ratings\"] = df[\"product_num_ratings\"].astype(int)\n",
    "\n",
    "\n",
    "print(df.describe())"
   ]
  },
  {
   "cell_type": "markdown",
   "id": "4276879a",
   "metadata": {},
   "source": [
    "## 🔹 2. Top Products by Rating"
   ]
  },
  {
   "cell_type": "code",
   "execution_count": null,
   "id": "3bb4145f",
   "metadata": {},
   "outputs": [],
   "source": [
    "top_rated = df.sort_values(by=\"product_star_rating\", ascending=False).head(10)\n",
    "print(top_rated[[\"product_title\", \"product_star_rating\", \"country\"]])"
   ]
  },
  {
   "cell_type": "markdown",
   "id": "82e63c4b",
   "metadata": {},
   "source": [
    "## 🔹 3. Visualization: Price vs Rating"
   ]
  },
  {
   "cell_type": "code",
   "execution_count": null,
   "id": "632e646b",
   "metadata": {},
   "outputs": [],
   "source": [
    "plt.figure(figsize=(10,6))\n",
    "sns.scatterplot(data=df, x=\"product_price\", y=\"product_star_rating\", hue=\"country\")\n",
    "plt.title(\"Product Price vs Star Rating\")\n",
    "plt.show()"
   ]
  },
  {
   "cell_type": "markdown",
   "id": "da12658a",
   "metadata": {},
   "source": [
    "## 🔹 4. Total Ratings per Country"
   ]
  },
  {
   "cell_type": "code",
   "execution_count": null,
   "id": "83d4e81f",
   "metadata": {},
   "outputs": [],
   "source": [
    "ratings_by_country = df.groupby(\"country\")[\"product_num_ratings\"].sum().sort_values(ascending=False)\n",
    "print(ratings_by_country)"
   ]
  }
 ],
 "metadata": {
  "kernelspec": {
   "display_name": "Python 3 (ipykernel)",
   "language": "python",
   "name": "python3"
  },
  "language_info": {
   "codemirror_mode": {
    "name": "ipython",
    "version": 3
   },
   "file_extension": ".py",
   "mimetype": "text/x-python",
   "name": "python",
   "nbconvert_exporter": "python",
   "pygments_lexer": "ipython3",
   "version": "3.11.3"
  }
 },
 "nbformat": 4,
 "nbformat_minor": 5
}
